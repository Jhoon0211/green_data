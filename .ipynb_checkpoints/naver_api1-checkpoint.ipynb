{
 "cells": [
  {
   "cell_type": "code",
   "execution_count": 20,
   "id": "cb4db10c",
   "metadata": {
    "scrolled": false
   },
   "outputs": [
    {
     "name": "stdout",
     "output_type": "stream",
     "text": [
      "200\n",
      "<class 'http.client.HTTPResponse'>\n"
     ]
    },
    {
     "data": {
      "text/plain": [
       "'{\\n\\t\"lastBuildDate\":\"Fri, 12 May 2023 16:16:35 +0900\",\\n\\t\"total\":0,\\n\\t\"start\":1,\\n\\t\"display\":0,\\n\\t\"items\":[\\n\\t]\\n}'"
      ]
     },
     "execution_count": 20,
     "metadata": {},
     "output_type": "execute_result"
    }
   ],
   "source": [
    "import urllib.request\n",
    "\n",
    "# 네이버 API 서비스(ID/비번) 등록\n",
    "client_id = \"52fQzuGkI9t8Cnwha33w\"\n",
    "client_secret = \"fgXgf6UUBa\"\n",
    "\n",
    "encText = urllib.request.quote(\"ajh1070337\")\n",
    "#print(encText)\n",
    "url = \"https://openapi.naver.com/v1/search/blog.json?query=\" + encText\n",
    "#print(url)\n",
    "\n",
    "request = urllib.request.Request(url)   # url 주소를 요청(호출)\n",
    "request.add_header(\"X-Naver-Client-Id\", client_id)   # header로 id/pw 보내줌\n",
    "request.add_header(\"X-Naver-Client-Secret\", client_secret)\n",
    "\n",
    "# 응답\n",
    "response = urllib.request.urlopen(request)  # requests.get(url) 유사함\n",
    "print(response.getcode())   # 상태 코드 200, 404\n",
    "print(type(response))\n",
    "response.read().decode('utf-8')"
   ]
  },
  {
   "cell_type": "markdown",
   "id": "2e821a49",
   "metadata": {},
   "source": [
    "### 도서 검색\n",
    "### https://openapi.naver.com/v1/search/book.json"
   ]
  },
  {
   "cell_type": "code",
   "execution_count": 19,
   "id": "5d853d16",
   "metadata": {},
   "outputs": [
    {
     "data": {
      "text/plain": [
       "'https://openapi.naver.com/v1/search/book.json?query=test&start=1&display=5'"
      ]
     },
     "execution_count": 19,
     "metadata": {},
     "output_type": "execute_result"
    }
   ],
   "source": [
    "import urllib.request\n",
    "\n",
    "def create_url(api_node, search_text, start_num, disp_num):\n",
    "    base = \"https://openapi.naver.com/v1/search\"\n",
    "    node = \"/\" + api_node + \".json\"\n",
    "    param_query = \"?query=\" + urllib.parse.quote(search_text)\n",
    "    param_start = \"&start=\" + str(start_num)\n",
    "    param_disp = \"&display=\" + str(disp_num)\n",
    "    \n",
    "    return base + node + param_query + param_start + param_disp\n",
    "\n",
    "create_url('book', 'test', 1, 5)"
   ]
  },
  {
   "cell_type": "code",
   "execution_count": null,
   "id": "b019c299",
   "metadata": {},
   "outputs": [],
   "source": [
    "import urllib.request\n",
    "import json\n",
    "\n",
    "def create_url(api_node, search_text, start_num, disp_num):\n",
    "    base = \"https://openapi.naver.com/v1/search\"\n",
    "    node = \"/\" + api_node + \".json\"\n",
    "    param_query = \"?query=\" + urllib.parse.quote(search_text)\n",
    "    param_start = \"&start=\" + str(start_num)\n",
    "    param_disp = \"&display=\" + str(disp_num)\n",
    "    \n",
    "    return base + node + param_query + param_start + param_disp\n",
    "\n",
    "create_url('book', 'test', 1, 5)"
   ]
  },
  {
   "cell_type": "code",
   "execution_count": 22,
   "id": "98f5024d",
   "metadata": {},
   "outputs": [
    {
     "name": "stdout",
     "output_type": "stream",
     "text": [
      "{'lastBuildDate': 'Fri, 12 May 2023 16:17:41 +0900', 'total': 0, 'start': 1, 'display': 0, 'items': []}\n"
     ]
    }
   ],
   "source": [
    "import urllib.request\n",
    "import json\n",
    "\n",
    "\n",
    "# 네이버 API 서비스(ID/비번) 등록\n",
    "client_id = \"52fQzuGkI9t8Cnwha33w\"\n",
    "client_secret = \"fgXgf6UUBa\"\n",
    "\n",
    "create_url('book', '파이썬', 1, 3)\n",
    "\n",
    "encText = urllib.request.quote(\"ajh1070337\")\n",
    "#print(encText)\n",
    "url = \"https://openapi.naver.com/v1/search/blog.json?query=\" + encText\n",
    "#print(url)\n",
    "\n",
    "request = urllib.request.Request(url)   # url 주소를 요청(호출)\n",
    "request.add_header(\"X-Naver-Client-Id\", client_id)   # header로 id/pw 보내줌\n",
    "request.add_header(\"X-Naver-Client-Secret\", client_secret)\n",
    "\n",
    "# 응답\n",
    "response = urllib.request.urlopen(request)  # requests.get(url) 유사함\n",
    "result = json.loads(response.read().decode('utf-8'))\n",
    "print(result)"
   ]
  }
 ],
 "metadata": {
  "kernelspec": {
   "display_name": "Python 3 (ipykernel)",
   "language": "python",
   "name": "python3"
  },
  "language_info": {
   "codemirror_mode": {
    "name": "ipython",
    "version": 3
   },
   "file_extension": ".py",
   "mimetype": "text/x-python",
   "name": "python",
   "nbconvert_exporter": "python",
   "pygments_lexer": "ipython3",
   "version": "3.10.9"
  }
 },
 "nbformat": 4,
 "nbformat_minor": 5
}
