{
 "cells": [
  {
   "cell_type": "code",
   "execution_count": 8,
   "id": "c61d90f9",
   "metadata": {},
   "outputs": [],
   "source": [
    "from tkinter import *\n",
    "\n",
    "window = Tk()\n",
    "window.title('grid')\n",
    "window.geometry(\"300x200\")\n",
    "window.option_add(\"*font\", \"맑은고딕 15\")\n",
    "\n",
    "# 바깥 여백 - padx: x축 방향으로 여백 설정, pady : y축 방향으로 여백 설정\n",
    "Button(window, text='(0, 0)').grid(row=0, column=0, padx=10)\n",
    "Button(window, text='(0, 1)').grid(row=0, column=1)\n",
    "\n",
    "# 셀 병합 : columnspan = 2\n",
    "Button(window, text='(1, 1)').grid(row=1, columnspan=2, pady=20)\n",
    "Button(window, text='(2, 0)').grid(row=2, column=0)\n",
    "\n",
    "window.mainloop()"
   ]
  },
  {
   "cell_type": "code",
   "execution_count": null,
   "id": "a96d9655",
   "metadata": {},
   "outputs": [],
   "source": []
  },
  {
   "cell_type": "code",
   "execution_count": null,
   "id": "dcfd3e24",
   "metadata": {},
   "outputs": [],
   "source": []
  },
  {
   "cell_type": "code",
   "execution_count": null,
   "id": "449f6c5c",
   "metadata": {},
   "outputs": [],
   "source": []
  },
  {
   "cell_type": "code",
   "execution_count": null,
   "id": "24177408",
   "metadata": {},
   "outputs": [],
   "source": []
  }
 ],
 "metadata": {
  "kernelspec": {
   "display_name": "Python 3 (ipykernel)",
   "language": "python",
   "name": "python3"
  },
  "language_info": {
   "codemirror_mode": {
    "name": "ipython",
    "version": 3
   },
   "file_extension": ".py",
   "mimetype": "text/x-python",
   "name": "python",
   "nbconvert_exporter": "python",
   "pygments_lexer": "ipython3",
   "version": "3.10.9"
  }
 },
 "nbformat": 4,
 "nbformat_minor": 5
}
